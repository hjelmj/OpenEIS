{
 "cells": [
  {
   "cell_type": "markdown",
   "metadata": {},
   "source": [
    "# Electrochemical Impedance Spectroscopy - Interactive Simulations\n",
    "\n",
    "This notebook/webpage contains an set of interactive visualizations of the frequency dependent impedance (we'll use the symbol Z for impedance) of a few equivalent circuit models commonly encountered in electrochemical impedance spectroscopy.\n",
    "\n",
    "The impedance data is generally visualized using different 2D representations such as:\n",
    "* **Complex plane plot** (or a Nyquist plot) where the real ($Z_{re}$) and imaginary ($Z_{im}$) part of the impedance is displayed. Most often the negative of the imaginary that is plotted on the y-axis (*i.e.* - $Z_{im}$) in such a plot.\n",
    "\n",
    "* a **Bode plot**, which is a plot with the logarithm of the frequency ($log\\,f$) on the x-axis in one of the following combinations:\n",
    "    * the modulus of the logarithm ($log_{10}$) of the impedance ($Z_{mod}$) and the phase angle ($\\phi$) *vs* $log\\ f$\n",
    "    * $Z_{re}$ and $-Z_{im}$ *vs* $log\\,f$\n",
    "    * $log\\,Z_{re}$ and $log\\,|Z_{im}|$ *vs* $log\\,f$\n",
    "\n",
    "The circuits are described using a text string that can (unambiguously) describe the way the circuit is connected. It is closely following that suggested by B. Boukamp in his [Circuit Description Code (CDC)](https://www.utwente.nl/en/tnw/ims/publications/downloads/CDC_Explained.pdf).\n",
    "\n",
    "The image below shows a circuit diagram illustrating the well-known Randles circuit, where $R_{\\Omega}$ is the ohmic resistance (e.g. the uncompensated electrolyte resistance in a three-electrode cell), $R_{ct}$ is the charge transfer resistance, C is the double-layer capacitance, and W is a semi-infinite Warburg diffusion element.\n",
    "\n",
    "![Randles Circuit](../figures/EquivalentCircuitRandles.png)\n",
    "\n",
    "Using the CDC we can describe the Randles circuit as \"R(C\\[RW\\])\". This type of string representation is helpful when one wants to instruct a computer program what circuit to build or select for fitting of a model to experimental impedance data, and also useful to discuss different circuits in text.\n",
    "\n",
    "\n",
    "** Things to implement **\n",
    "\n",
    "* move all impedance functions and interact wrappers to a script that is imported into notebook to unclutter, but add MathJax equations for all cases\n",
    "* hmm, now I am thinking that this should be split over several notebooks/html docs...\n",
    "* a R(RC) circuit\n",
    "* a R(C[RW]) circuit where W is a semi-infite Warburg diffusion element\n",
    "* a R(C[RW]) circuit where W is a 1D finite-length diffusion element with a blocking boundary (to illustrate response in thin-layer cell)\n",
    "* a R(C[RW]) circuit in the context of an RDE experiment, in this case it is a finite-length diffusion element with a transmissive boundary\n",
    "* a Transmission Line Circuit Model / Porous Electrode example (maybe this should be a separate notebook/html)\n",
    "* a concentration profile in EIS experiment where frequency can be varied to illustrate \"probing depth\" / penetration length in EIS"
   ]
  },
  {
   "cell_type": "code",
   "execution_count": 3,
   "metadata": {},
   "outputs": [],
   "source": [
    "import nbinteract as nbi# importing nbinteract package\n",
    "#            Binder spec       Name of the notebook\n",
    "#nbi.publish('my_binder_spec', 'my_notebook.ipynb') # for generating the html of this notebook\n",
    "# binder spec = {username}/{repo}/{branch}\n",
    "# so here it would be 'hjelmj/OpenEIS/master'..."
   ]
  },
  {
   "cell_type": "code",
   "execution_count": 2,
   "metadata": {},
   "outputs": [],
   "source": [
    "# import functions for interactive visualizations\n",
    "from EIS_interactive import RC_interactive, R_RC_interactive\n",
    "# set up notebook for inline plots\n",
    "%matplotlib inline\n",
    "# switch to svg output\n",
    "%config InlineBackend.figure_format = 'svg'\n",
    "# select matplotlib stylesheet\n",
    "plt.style.use('ggplot')"
   ]
  },
  {
   "cell_type": "markdown",
   "metadata": {},
   "source": [
    "## Adding up Impedances\n",
    "\n",
    "The main three rules to remember are the following:\n",
    "\n",
    "* Series connected impedances: $Z = Z_1 + Z_2 + Z_3 + ... + Z_i$  \n",
    "  \\<place image here>\n",
    "* Parallel connected impedances: $\\frac{1}{Z} = \\frac{1}{Z_1} + \\frac{1}{Z_2} + ... + \\frac{1}{Z_i}$  \n",
    "  \\<place image here>\n",
    "* When the circuit contains both parallel and series connected elements:  \n",
    "  \\<place image here>\n",
    "  \n",
    "*need to make illustration using draw.io similar to that in EIS lecture...*"
   ]
  },
  {
   "cell_type": "markdown",
   "metadata": {},
   "source": [
    "## A series connected R and C element, an RC circuit\n",
    "The impedance of a resistor, $Z_R = R$, and the impedance of a capacitor is $Z_C =  \n"
   ]
  },
  {
   "cell_type": "code",
   "execution_count": null,
   "metadata": {},
   "outputs": [],
   "source": []
  },
  {
   "cell_type": "markdown",
   "metadata": {},
   "source": [
    "## A simple R(RC) circuit\n",
    "The following interactive simulation is for a simple R(RC) circuit as illustrated below:\n",
    "\n",
    "The impedance of a resistor, $Z_R$ = R and the impedance of a capacitor $Z_C = \\dfrac{1}{j \\omega C}$ and the impedance of the R(RC) circuit becomes:\n",
    "\n",
    "$$Z_{R(RC)} = R_0 +   \\dfrac{1}{ \\left ( \\dfrac{1}{R_{1}} + \\dfrac{1}{(j\\omega)C_1} \\right )}  $$\n",
    "\n",
    "An example of a Python function that returns the impedance of a R(RC) circuit is given below."
   ]
  },
  {
   "cell_type": "code",
   "execution_count": 3,
   "metadata": {},
   "outputs": [],
   "source": [
    "# define function that returns impedance of -R-(RC)- circuit\n",
    "\n",
    "def Z_R_RC(R0, R1, C1, w):\n",
    "    \"\"\"\n",
    "    Returns the impedance of a -R-(RC)- circuit.\n",
    "    \n",
    "    Parameters:\n",
    "    -----------\n",
    "    R0 : series resistance (Ohmic resistance) of circuit [Ohm]\n",
    "    R1 : resistance of parallel connected circuit element [Ohm]\n",
    "    C1 : capacitance of parallel connected circuit element [Farad]\n",
    "    w : angular frequency, accepts an array as well as a single number [rad s^-1]\n",
    "    \n",
    "    Returns:\n",
    "    --------\n",
    "    The frequency dependent impedance as a complex number. [Ohm]\n",
    "    \"\"\"\n",
    "    Z_R0 = R0\n",
    "    Z_R1 = R1\n",
    "    Z_C1 = -1j/(w*C1) # capacitive reactance\n",
    "    Z_RC = 1/(1/Z_R1 + 1/Z_C1) # parallel connection\n",
    "    return Z_R0 + Z_RC # Z_R0 and Z_RC connected in series"
   ]
  },
  {
   "cell_type": "code",
   "execution_count": 4,
   "metadata": {},
   "outputs": [],
   "source": [
    "# generate an angular frequency range\n",
    "w = np.logspace(7,0,7*10)"
   ]
  },
  {
   "cell_type": "code",
   "execution_count": 1,
   "metadata": {},
   "outputs": [],
   "source": []
  },
  {
   "cell_type": "markdown",
   "metadata": {},
   "source": [
    "### Interactive Plot - R(RC) Circuit\n",
    "\n",
    "1. Vary the Ohmic resistance (R_0 here) - foes it influence the shape or summit frequency of the semi-circle?\n",
    "2. \n",
    "* add some questions / instructions for students / get feedback from dorhoff and lncl..."
   ]
  },
  {
   "cell_type": "code",
   "execution_count": 6,
   "metadata": {},
   "outputs": [
    {
     "data": {
      "application/vnd.jupyter.widget-view+json": {
       "model_id": "120032ab20d14c05ab39d23cd2ed4143",
       "version_major": 2,
       "version_minor": 0
      },
      "text/html": [
       "<p>Failed to display Jupyter Widget of type <code>interactive</code>.</p>\n",
       "<p>\n",
       "  If you're reading this message in the Jupyter Notebook or JupyterLab Notebook, it may mean\n",
       "  that the widgets JavaScript is still loading. If this message persists, it\n",
       "  likely means that the widgets JavaScript library is either not installed or\n",
       "  not enabled. See the <a href=\"https://ipywidgets.readthedocs.io/en/stable/user_install.html\">Jupyter\n",
       "  Widgets Documentation</a> for setup instructions.\n",
       "</p>\n",
       "<p>\n",
       "  If you're reading this message in another frontend (for example, a static\n",
       "  rendering on GitHub or <a href=\"https://nbviewer.jupyter.org/\">NBViewer</a>),\n",
       "  it may mean that your frontend doesn't currently support widgets.\n",
       "</p>\n"
      ],
      "text/plain": [
       "interactive(children=(FloatSlider(value=10.0, description='$R_0$', max=30.0, readout_format='.1f', step=1.0), FloatSlider(value=20.0, description='$R_1$', max=30.0, min=5.0, readout_format='.1f', step=1.0), FloatSlider(value=1e-05, continuous_update=False, description='$C_1$', max=0.001, min=1e-06, readout_format='.2e', step=1e-06), Output()), _dom_classes=('widget-interact',))"
      ]
     },
     "metadata": {},
     "output_type": "display_data"
    }
   ],
   "source": [
    "R_RC_interactive()"
   ]
  },
  {
   "cell_type": "markdown",
   "metadata": {},
   "source": [
    "## Electrochemical Impedance of Randles Circuit with Semi-infinite diffusion element\n",
    "This case corresponds to the situation in a electrochemical three electrode set up, where a dissolved redox active molecule or ion is present in an solution with supporting electrolyte. The concentration (or ionic strength) of the supporting electrolyte is typically 50-100 times larger than the total concentration of the redox couple.\n",
    "\n",
    "\\<put illustration of electrode surface + processes here...>"
   ]
  },
  {
   "cell_type": "code",
   "execution_count": 7,
   "metadata": {},
   "outputs": [
    {
     "ename": "SyntaxError",
     "evalue": "invalid syntax (<ipython-input-7-50421c6cd329>, line 16)",
     "output_type": "error",
     "traceback": [
      "\u001b[0;36m  File \u001b[0;32m\"<ipython-input-7-50421c6cd329>\"\u001b[0;36m, line \u001b[0;32m16\u001b[0m\n\u001b[0;31m    def Randles_si_plot(np.logspace(7,0,7*10),R0=5, Rct=50, C=1e-5, n=1, Dox=1e-5, Dred=1e-5, Cox=1e-6, Cred=1e-6, A=1, T=298):\u001b[0m\n\u001b[0m                          ^\u001b[0m\n\u001b[0;31mSyntaxError\u001b[0m\u001b[0;31m:\u001b[0m invalid syntax\n"
     ]
    }
   ],
   "source": [
    "# define function that returns the impedance of a Randles circuit with a semi-infinite diffusion element\n",
    "\n",
    "def Z_Randles_si(w,R0=5, Rct=50, C=1e-5, n=1, Dox=1e-5, Dred=1e-5, Cox=1e-6, Cred=1e-6, A=1, T=298):\n",
    "    \"\"\"\n",
    "    docstring\n",
    "    \"\"\"\n",
    "    Z_R0 = R0 # series resistance (uncompensated electrolyte resistance)\n",
    "    sigma = ((R*T)/(n**2 * F**2 * A * np.sqrt(2)))*(1/(np.sqrt(Dox)*Cox) + 1/(np.sqrt(Dred)*Cred)) # Warburg coefficient\n",
    "    Z_W = sigma/w**0.5 - 1j*sigma/w**0.5 # Warburg impedance, semi-infinite planar diffusion\n",
    "    Z_f = Rct + Z_W # impedance of faradaic branch\n",
    "    Z_C = -1j/(w*C1) # capacitive reactance - impedance of capacitor (models double-layer capacitance)            \n",
    "    Z_parallel = 1/(1/Z_C + 1/Z_f)\n",
    "    Z_total = Z_R0 + Z_parallel\n",
    "    return Z_total\n",
    "\n",
    "def Randles_si_plot(np.logspace(7,0,7*10),R0=5, Rct=50, C=1e-5, n=1, Dox=1e-5, Dred=1e-5, Cox=1e-6, Cred=1e-6, A=1, T=298):\n",
    "    Z = Z_Randles_si(w, R0=R0, Rct=Rct, C=C, n=n, Dox=Dox, Dred=Dred, Cox=Cox, Cred=Cred, A=A, T=T)\n",
    "    #set up a figure canvas with two plot areas (sets of axes)\n",
    "    fig,ax = plt.subplots(nrows=1, ncols=1, figsize=(8,4))\n",
    "    #add a Nyquist plot (first plot)\n",
    "    ax.plot(Z.real, -1*Z.imag, marker='o',ms=5, mec='b', mew=0.7, mfc='none')\n",
    "    ax.set_xlim(0,60)\n",
    "    ax.set_ylim(0,60)\n",
    "    ax.set_aspect('equal')\n",
    "    ax.set_xlabel('Z$_{re}$ [$\\Omega$]')\n",
    "    ax.set_ylabel('-Z$_{im}$ [$\\Omega$]')\n",
    "    plt.show()\n",
    "    \n",
    "def Randles_si_interactive():\n",
    "    interact(Randles_si_plot, \n",
    "             R0=FloatSlider(description='$R_0$', min=0, max=30, step=1, value=10, orientation='horizontal', \n",
    "                            readout=True, readout_format='.1f', continuous_update=True),\n",
    "             Rct=FloatSlider(description='$R_1$', min=5, max=30, step=1, value=20, orientation='horizontal', \n",
    "                            readout=True, readout_format='.1f', continuous_update=True),\n",
    "             C=FloatSlider(description='$C_1$', min=1e-6, max=1e-3, step=1e-6, value=1e-5,orientation='horizontal', \n",
    "                            readout=True, readout_format='.2e', continuous_update=False))"
   ]
  },
  {
   "cell_type": "markdown",
   "metadata": {},
   "source": [
    "## Finite-length diffusion with blocking boundary - The impedance of a thin layer cell\n",
    "\n",
    "Try to add both impedance plot and a second plot illstrating wall<->electrode gap"
   ]
  },
  {
   "cell_type": "code",
   "execution_count": null,
   "metadata": {},
   "outputs": [],
   "source": []
  },
  {
   "cell_type": "markdown",
   "metadata": {},
   "source": [
    "## Finite-length diffusion with transmissive boundary - The impedance of a rotating electrode\n",
    "\n",
    "Try to add panel with four plots:\n",
    "\n",
    " 1. voltammetry / i-V curve from RDE\n",
    " 2. impedance plot normalized impedance\n",
    " 3. impedance plot absolute impedance\n",
    " 4. Bode plot"
   ]
  },
  {
   "cell_type": "markdown",
   "metadata": {},
   "source": [
    "Using the `version information` extension by J.R. Johansson to display software version used to create this notebook (see [here](https://nbviewer.jupyter.org/github/jrjohansson/version_information/blob/master/example.ipynb) for install and usage instructions):"
   ]
  },
  {
   "cell_type": "code",
   "execution_count": null,
   "metadata": {},
   "outputs": [],
   "source": [
    "%load_ext version_information"
   ]
  },
  {
   "cell_type": "code",
   "execution_count": null,
   "metadata": {},
   "outputs": [],
   "source": [
    "%version_information numpy, matplotlib, ipywidgets"
   ]
  },
  {
   "cell_type": "code",
   "execution_count": null,
   "metadata": {},
   "outputs": [],
   "source": []
  }
 ],
 "metadata": {
  "anaconda-cloud": {},
  "kernelspec": {
   "display_name": "Python 3",
   "language": "python",
   "name": "python3"
  },
  "language_info": {
   "codemirror_mode": {
    "name": "ipython",
    "version": 3
   },
   "file_extension": ".py",
   "mimetype": "text/x-python",
   "name": "python",
   "nbconvert_exporter": "python",
   "pygments_lexer": "ipython3",
   "version": "3.6.4"
  },
  "varInspector": {
   "cols": {
    "lenName": 16,
    "lenType": 16,
    "lenVar": 40
   },
   "kernels_config": {
    "python": {
     "delete_cmd_postfix": "",
     "delete_cmd_prefix": "del ",
     "library": "var_list.py",
     "varRefreshCmd": "print(var_dic_list())"
    },
    "r": {
     "delete_cmd_postfix": ") ",
     "delete_cmd_prefix": "rm(",
     "library": "var_list.r",
     "varRefreshCmd": "cat(var_dic_list()) "
    }
   },
   "types_to_exclude": [
    "module",
    "function",
    "builtin_function_or_method",
    "instance",
    "_Feature"
   ],
   "window_display": false
  },
  "widgets": {
   "application/vnd.jupyter.widget-state+json": {
    "state": {
     "010571b401544752ad74b93e56d06bc8": {
      "model_module": "@jupyter-widgets/controls",
      "model_module_version": "1.1.0",
      "model_name": "SliderStyleModel",
      "state": {
       "description_width": ""
      }
     },
     "09f4defc30744bccbdb18b8de21f9533": {
      "model_module": "@jupyter-widgets/base",
      "model_module_version": "1.0.0",
      "model_name": "LayoutModel",
      "state": {}
     },
     "10838f0da46f4cc5ad15cfdf1fbfd559": {
      "model_module": "@jupyter-widgets/base",
      "model_module_version": "1.0.0",
      "model_name": "LayoutModel",
      "state": {}
     },
     "246aaa0603fa419187e66a8238ba8612": {
      "model_module": "@jupyter-widgets/controls",
      "model_module_version": "1.1.0",
      "model_name": "IntSliderModel",
      "state": {
       "description": "R0",
       "layout": "IPY_MODEL_2f464339fdbf4a008f83e4464361a501",
       "max": 20,
       "min": 1,
       "style": "IPY_MODEL_9391cee43413442ab74f5936e7194c4d",
       "value": 10
      }
     },
     "2f464339fdbf4a008f83e4464361a501": {
      "model_module": "@jupyter-widgets/base",
      "model_module_version": "1.0.0",
      "model_name": "LayoutModel",
      "state": {}
     },
     "30434fb070344ebd874b030f80fbc5f3": {
      "model_module": "@jupyter-widgets/output",
      "model_module_version": "1.0.0",
      "model_name": "OutputModel",
      "state": {
       "layout": "IPY_MODEL_392d547836ea40a0ae91feedd69d9548",
       "outputs": [
        {
         "data": {
          "image/png": "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\n",
          "text/plain": "<matplotlib.figure.Figure at 0x7f823626f278>"
         },
         "metadata": {},
         "output_type": "display_data"
        }
       ]
      }
     },
     "392d547836ea40a0ae91feedd69d9548": {
      "model_module": "@jupyter-widgets/base",
      "model_module_version": "1.0.0",
      "model_name": "LayoutModel",
      "state": {}
     },
     "3dea2fda60c8485eb88eefd2096a074f": {
      "model_module": "@jupyter-widgets/controls",
      "model_module_version": "1.1.0",
      "model_name": "SliderStyleModel",
      "state": {
       "description_width": ""
      }
     },
     "43b4f394f1354af9beedaf156170a39b": {
      "model_module": "@jupyter-widgets/base",
      "model_module_version": "1.0.0",
      "model_name": "LayoutModel",
      "state": {}
     },
     "4b718b6700804032a0f12abfd625a3a4": {
      "model_module": "@jupyter-widgets/controls",
      "model_module_version": "1.1.0",
      "model_name": "IntSliderModel",
      "state": {
       "description": "R1",
       "layout": "IPY_MODEL_43b4f394f1354af9beedaf156170a39b",
       "max": 40,
       "min": 1,
       "style": "IPY_MODEL_010571b401544752ad74b93e56d06bc8",
       "value": 20
      }
     },
     "52a234aa86a74ac0b73a0aa796e34f76": {
      "model_module": "@jupyter-widgets/base",
      "model_module_version": "1.0.0",
      "model_name": "LayoutModel",
      "state": {}
     },
     "55f5caddca5b48b28af7fb92647965be": {
      "model_module": "@jupyter-widgets/controls",
      "model_module_version": "1.1.0",
      "model_name": "FloatSliderModel",
      "state": {
       "description": "C1",
       "layout": "IPY_MODEL_a73fd6e0b8a346048caac6a71d1f5bd2",
       "max": 0.0001,
       "min": 1e-06,
       "step": 1e-06,
       "style": "IPY_MODEL_f1a56d88c6a743e180dc1d665e590ab1",
       "value": 4.9999999999999996e-05
      }
     },
     "5bab9e5b1aa74e1889c34d33e70e35c6": {
      "model_module": "@jupyter-widgets/base",
      "model_module_version": "1.0.0",
      "model_name": "LayoutModel",
      "state": {}
     },
     "6249c0cd05ed41d39f06560b214ade6b": {
      "model_module": "@jupyter-widgets/controls",
      "model_module_version": "1.1.0",
      "model_name": "SliderStyleModel",
      "state": {
       "description_width": ""
      }
     },
     "66fce1af0fb24bdfafc5fc1ead2e8d20": {
      "model_module": "@jupyter-widgets/controls",
      "model_module_version": "1.1.0",
      "model_name": "VBoxModel",
      "state": {
       "_dom_classes": [
        "widget-interact"
       ],
       "children": [
        "IPY_MODEL_246aaa0603fa419187e66a8238ba8612",
        "IPY_MODEL_4b718b6700804032a0f12abfd625a3a4",
        "IPY_MODEL_55f5caddca5b48b28af7fb92647965be",
        "IPY_MODEL_30434fb070344ebd874b030f80fbc5f3"
       ],
       "layout": "IPY_MODEL_52a234aa86a74ac0b73a0aa796e34f76"
      }
     },
     "870036d38ee142e1839316c03a6619bd": {
      "model_module": "@jupyter-widgets/base",
      "model_module_version": "1.0.0",
      "model_name": "LayoutModel",
      "state": {}
     },
     "8ccc6c1c03454febacf67563e903bfa6": {
      "model_module": "@jupyter-widgets/controls",
      "model_module_version": "1.1.0",
      "model_name": "VBoxModel",
      "state": {
       "_dom_classes": [
        "widget-interact"
       ],
       "children": [
        "IPY_MODEL_bd9b26b5dc054717b53d8241bec46530",
        "IPY_MODEL_92113b17324743198e8d457e38c03a98",
        "IPY_MODEL_bb0d6552f56a49cdb0f60d0318c00631",
        "IPY_MODEL_eb01b728acae4798afcdda33b5af1528"
       ],
       "layout": "IPY_MODEL_870036d38ee142e1839316c03a6619bd"
      }
     },
     "92113b17324743198e8d457e38c03a98": {
      "model_module": "@jupyter-widgets/controls",
      "model_module_version": "1.1.0",
      "model_name": "IntSliderModel",
      "state": {
       "description": "R1",
       "layout": "IPY_MODEL_10838f0da46f4cc5ad15cfdf1fbfd559",
       "max": 40,
       "min": 1,
       "style": "IPY_MODEL_b944ce089dd44574b1e18fa01e477545",
       "value": 10
      }
     },
     "9391cee43413442ab74f5936e7194c4d": {
      "model_module": "@jupyter-widgets/controls",
      "model_module_version": "1.1.0",
      "model_name": "SliderStyleModel",
      "state": {
       "description_width": ""
      }
     },
     "a73fd6e0b8a346048caac6a71d1f5bd2": {
      "model_module": "@jupyter-widgets/base",
      "model_module_version": "1.0.0",
      "model_name": "LayoutModel",
      "state": {}
     },
     "b944ce089dd44574b1e18fa01e477545": {
      "model_module": "@jupyter-widgets/controls",
      "model_module_version": "1.1.0",
      "model_name": "SliderStyleModel",
      "state": {
       "description_width": ""
      }
     },
     "bb0d6552f56a49cdb0f60d0318c00631": {
      "model_module": "@jupyter-widgets/controls",
      "model_module_version": "1.1.0",
      "model_name": "FloatSliderModel",
      "state": {
       "description": "C1",
       "layout": "IPY_MODEL_c68e6eec6d644b2b8a72b998f55d62a9",
       "max": 0.0001,
       "min": 1e-06,
       "step": 1e-06,
       "style": "IPY_MODEL_6249c0cd05ed41d39f06560b214ade6b",
       "value": 9e-05
      }
     },
     "bd9b26b5dc054717b53d8241bec46530": {
      "model_module": "@jupyter-widgets/controls",
      "model_module_version": "1.1.0",
      "model_name": "IntSliderModel",
      "state": {
       "description": "R0",
       "layout": "IPY_MODEL_09f4defc30744bccbdb18b8de21f9533",
       "max": 20,
       "min": 1,
       "style": "IPY_MODEL_3dea2fda60c8485eb88eefd2096a074f",
       "value": 15
      }
     },
     "c68e6eec6d644b2b8a72b998f55d62a9": {
      "model_module": "@jupyter-widgets/base",
      "model_module_version": "1.0.0",
      "model_name": "LayoutModel",
      "state": {}
     },
     "eb01b728acae4798afcdda33b5af1528": {
      "model_module": "@jupyter-widgets/output",
      "model_module_version": "1.0.0",
      "model_name": "OutputModel",
      "state": {
       "layout": "IPY_MODEL_5bab9e5b1aa74e1889c34d33e70e35c6",
       "outputs": [
        {
         "data": {
          "image/png": "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\n",
          "text/plain": "<matplotlib.figure.Figure at 0x7f82362886a0>"
         },
         "metadata": {},
         "output_type": "display_data"
        }
       ]
      }
     },
     "f1a56d88c6a743e180dc1d665e590ab1": {
      "model_module": "@jupyter-widgets/controls",
      "model_module_version": "1.1.0",
      "model_name": "SliderStyleModel",
      "state": {
       "description_width": ""
      }
     }
    },
    "version_major": 2,
    "version_minor": 0
   }
  }
 },
 "nbformat": 4,
 "nbformat_minor": 2
}
